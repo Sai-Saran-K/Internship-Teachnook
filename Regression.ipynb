{
 "cells": [
  {
   "cell_type": "code",
   "execution_count": 28,
   "id": "2abe17f5",
   "metadata": {},
   "outputs": [],
   "source": [
    "import numpy as np\n",
    "import matplotlib.pyplot as plt"
   ]
  },
  {
   "cell_type": "code",
   "execution_count": 29,
   "id": "4ee4dcf1",
   "metadata": {},
   "outputs": [],
   "source": [
    "from tensorflow.keras.datasets import boston_housing\n",
    "Train, test = boston_housing.load_data(seed= 111)\n",
    "train_data, train_labels = Train[0], Train[1]\n",
    "test_data, test_labels = test[0], test[1]"
   ]
  },
  {
   "cell_type": "code",
   "execution_count": 30,
   "id": "c21d876e",
   "metadata": {},
   "outputs": [
    {
     "name": "stdout",
     "output_type": "stream",
     "text": [
      "(404, 13)\n",
      "(404,)\n",
      "(102, 13)\n",
      "(102,)\n"
     ]
    }
   ],
   "source": [
    "print(train_data.shape)\n",
    "print(train_labels.shape)\n",
    "print(test_data.shape)\n",
    "print(test_labels.shape)"
   ]
  },
  {
   "cell_type": "markdown",
   "id": "b506ae79",
   "metadata": {},
   "source": [
    "## Adding dummy feature"
   ]
  },
  {
   "cell_type": "code",
   "execution_count": 31,
   "id": "fbe8da88",
   "metadata": {},
   "outputs": [
    {
     "name": "stdout",
     "output_type": "stream",
     "text": [
      "(14, 404)\n",
      "(14, 102)\n"
     ]
    }
   ],
   "source": [
    "train_dummy = np.ones(len(train_labels))\n",
    "test_dummy = np.ones(len(test_labels))\n",
    "train_data = np.row_stack((train_dummy, train_data.T))\n",
    "test_data = np.row_stack((test_dummy, test_data.T))\n",
    "print(train_data.shape)\n",
    "print(test_data.shape)"
   ]
  },
  {
   "cell_type": "code",
   "execution_count": 43,
   "id": "8c8ecc8c",
   "metadata": {},
   "outputs": [
    {
     "data": {
      "text/plain": [
       "14"
      ]
     },
     "execution_count": 43,
     "metadata": {},
     "output_type": "execute_result"
    }
   ],
   "source": [
    "features = train_data.shape[0]\n",
    "features"
   ]
  },
  {
   "cell_type": "markdown",
   "id": "5b5640e7",
   "metadata": {},
   "source": [
    "# Normal Equation LR"
   ]
  },
  {
   "cell_type": "markdown",
   "id": "702b8249",
   "metadata": {},
   "source": [
    "## Computing Weights\n",
    "Formula to calculate weights is:\n",
    "$$\n",
    "w_{lr} = (XX^T)^{-1}XY\n",
    "$$"
   ]
  },
  {
   "cell_type": "code",
   "execution_count": 32,
   "id": "944990a0",
   "metadata": {},
   "outputs": [],
   "source": [
    "def weights_lr(X,y):\n",
    "    return np.linalg.pinv(X @ X.T) @ X @ y"
   ]
  },
  {
   "cell_type": "markdown",
   "id": "7c744c96",
   "metadata": {},
   "source": [
    "## Computing Predictions\n",
    "$$\n",
    "y^{'}=w^TX\n",
    "$$"
   ]
  },
  {
   "cell_type": "code",
   "execution_count": 33,
   "id": "76da3310",
   "metadata": {},
   "outputs": [],
   "source": [
    "def predict(X,w):\n",
    "    return w.T @ X"
   ]
  },
  {
   "cell_type": "markdown",
   "id": "80af8b20",
   "metadata": {},
   "source": [
    "## Computing Loss (RMSE)\n",
    "$$\n",
    "loss = \\sqrt{\\frac{1}{n}\\sum_{i=1}^{n}(y^{'}_{i}-y_{i})^2}\n",
    "$$"
   ]
  },
  {
   "cell_type": "code",
   "execution_count": 34,
   "id": "eff6d803",
   "metadata": {},
   "outputs": [],
   "source": [
    "def RMSE(y, y_pred):\n",
    "    return np.sqrt(np.mean((y-y_pred)**2))"
   ]
  },
  {
   "cell_type": "code",
   "execution_count": 35,
   "id": "8600d55c",
   "metadata": {},
   "outputs": [],
   "source": [
    "# Weights for normal equation LR\n",
    "w_lr = weights_lr(train_data, train_labels)"
   ]
  },
  {
   "cell_type": "code",
   "execution_count": 36,
   "id": "55188da4",
   "metadata": {},
   "outputs": [
    {
     "data": {
      "text/plain": [
       "20.524582465710353"
      ]
     },
     "execution_count": 36,
     "metadata": {},
     "output_type": "execute_result"
    }
   ],
   "source": [
    "np.sum(w_lr)"
   ]
  },
  {
   "cell_type": "code",
   "execution_count": 37,
   "id": "14f79ee3",
   "metadata": {},
   "outputs": [
    {
     "data": {
      "text/plain": [
       "22.30915841584466"
      ]
     },
     "execution_count": 37,
     "metadata": {},
     "output_type": "execute_result"
    }
   ],
   "source": [
    "# Predictions for normal equation LR\n",
    "pred_lr_train = predict(train_data, w_lr)\n",
    "np.mean(pred_lr_train)"
   ]
  },
  {
   "cell_type": "code",
   "execution_count": 38,
   "id": "db9648f7",
   "metadata": {},
   "outputs": [
    {
     "data": {
      "text/plain": [
       "4.552387969840813"
      ]
     },
     "execution_count": 38,
     "metadata": {},
     "output_type": "execute_result"
    }
   ],
   "source": [
    "# training loss for normal equation LR\n",
    "RMSE(train_labels, pred_lr_train)"
   ]
  },
  {
   "cell_type": "code",
   "execution_count": 39,
   "id": "3231632f",
   "metadata": {},
   "outputs": [
    {
     "data": {
      "text/plain": [
       "5.327662216175009"
      ]
     },
     "execution_count": 39,
     "metadata": {},
     "output_type": "execute_result"
    }
   ],
   "source": [
    "# test loss for normal equation LR\n",
    "pred_lr_test = predict(test_data, w_lr)\n",
    "RMSE(test_labels, pred_lr_test)"
   ]
  },
  {
   "cell_type": "markdown",
   "id": "814c3fa8",
   "metadata": {},
   "source": [
    "# Gradient Descent"
   ]
  },
  {
   "cell_type": "markdown",
   "id": "6bdb6621",
   "metadata": {},
   "source": [
    "## Computing Weights\n",
    "$$\n",
    "w^{t+1}=w^{t}-\\eta^{t}(2XX^{t}w^{t}-2XY)\n",
    "$$"
   ]
  },
  {
   "cell_type": "code",
   "execution_count": 47,
   "id": "b08f6bab",
   "metadata": {},
   "outputs": [],
   "source": [
    "def weights_gd(X, y, w, eta, iters):\n",
    "    for i in range(iters):\n",
    "        w = w - eta*(2*X @ X.T @ w - 2*X @ y)\n",
    "    return w"
   ]
  },
  {
   "cell_type": "code",
   "execution_count": 49,
   "id": "c96bbe43",
   "metadata": {},
   "outputs": [
    {
     "data": {
      "text/plain": [
       "0.058959061195902614"
      ]
     },
     "execution_count": 49,
     "metadata": {},
     "output_type": "execute_result"
    }
   ],
   "source": [
    "w_gd = weights_gd(train_data, train_labels, np.zeros(features), 1e-10, 100)\n",
    "np.sum(w_gd)"
   ]
  },
  {
   "cell_type": "code",
   "execution_count": 51,
   "id": "8e384430",
   "metadata": {},
   "outputs": [
    {
     "data": {
      "text/plain": [
       "11.13727323702196"
      ]
     },
     "execution_count": 51,
     "metadata": {},
     "output_type": "execute_result"
    }
   ],
   "source": [
    "# training error for GD\n",
    "pred_gd_train = predict(train_data, w_gd)\n",
    "RMSE(train_labels, pred_gd_train)"
   ]
  },
  {
   "cell_type": "code",
   "execution_count": 52,
   "id": "2715375d",
   "metadata": {},
   "outputs": [
    {
     "data": {
      "text/plain": [
       "10.964491250062146"
      ]
     },
     "execution_count": 52,
     "metadata": {},
     "output_type": "execute_result"
    }
   ],
   "source": [
    "pred_gd_test = predict(test_data, w_gd)\n",
    "RMSE(test_labels, pred_gd_test)"
   ]
  },
  {
   "cell_type": "markdown",
   "id": "2d777f4a",
   "metadata": {},
   "source": [
    "# Stochastic Gradient Descent\n",
    "Run Gradient Descent Algorithm for fixed number of iterations on random sample of data points."
   ]
  },
  {
   "cell_type": "code",
   "execution_count": 55,
   "id": "c4fb30cd",
   "metadata": {},
   "outputs": [],
   "source": [
    "def weights_sgd(X, y, eta, iters):\n",
    "    w = np.zeros(X.shape[0])\n",
    "    for i in range(iters):\n",
    "        rng = np.random.default_rng(seed = i)\n",
    "        sample_indices = rng.integers(0, X.shape[1], X.shape[1]//5)\n",
    "        X_sample = X[:,sample_indices]\n",
    "        y_sample = y[sample_indices]\n",
    "        w = w - eta*(2*X_sample @ X_sample.T @ w - 2*X_sample @ y_sample)\n",
    "    return w"
   ]
  },
  {
   "cell_type": "code",
   "execution_count": 57,
   "id": "6fcf0ffe",
   "metadata": {},
   "outputs": [
    {
     "data": {
      "text/plain": [
       "0.10124206187312637"
      ]
     },
     "execution_count": 57,
     "metadata": {},
     "output_type": "execute_result"
    }
   ],
   "source": [
    "w_sgd = weights_sgd(train_data, train_labels, 1e-8, 1000)\n",
    "np.sum(w_sgd)"
   ]
  },
  {
   "cell_type": "code",
   "execution_count": 58,
   "id": "85964305",
   "metadata": {},
   "outputs": [
    {
     "data": {
      "text/plain": [
       "8.6246359251934"
      ]
     },
     "execution_count": 58,
     "metadata": {},
     "output_type": "execute_result"
    }
   ],
   "source": [
    "pred_sgd_train = predict(train_data, w_sgd)\n",
    "RMSE(train_labels, pred_sgd_train)"
   ]
  },
  {
   "cell_type": "code",
   "execution_count": 59,
   "id": "473fa945",
   "metadata": {},
   "outputs": [
    {
     "data": {
      "text/plain": [
       "8.352305624451189"
      ]
     },
     "execution_count": 59,
     "metadata": {},
     "output_type": "execute_result"
    }
   ],
   "source": [
    "pred_sgd_test = predict(test_data, w_sgd)\n",
    "RMSE(test_labels, pred_sgd_test)"
   ]
  },
  {
   "cell_type": "markdown",
   "id": "6bbd9b68",
   "metadata": {},
   "source": [
    "# Kernel Regression"
   ]
  },
  {
   "cell_type": "code",
   "execution_count": 86,
   "id": "48fd5184",
   "metadata": {},
   "outputs": [],
   "source": [
    "# Training Data Setup\n",
    "rng = np.random.default_rng(seed = 101)\n",
    "X = np.arange(-2, 2, 0.01).reshape(-1, 1)\n",
    "y = X**3 + rng.normal(0, 1, X.shape[0]).reshape(-1, 1)"
   ]
  },
  {
   "cell_type": "code",
   "execution_count": 87,
   "id": "8216aebd",
   "metadata": {},
   "outputs": [
    {
     "data": {
      "text/plain": [
       "(400, 1)"
      ]
     },
     "execution_count": 87,
     "metadata": {},
     "output_type": "execute_result"
    }
   ],
   "source": [
    "y = y.reshape(-1,1)\n",
    "y.shape"
   ]
  },
  {
   "cell_type": "code",
   "execution_count": 88,
   "id": "e8cfe5b6",
   "metadata": {},
   "outputs": [
    {
     "data": {
      "text/plain": [
       "(2, 400)"
      ]
     },
     "execution_count": 88,
     "metadata": {},
     "output_type": "execute_result"
    }
   ],
   "source": [
    "X = np.row_stack((np.ones(X.shape[0]), X.T))\n",
    "X.shape"
   ]
  },
  {
   "cell_type": "code",
   "execution_count": 89,
   "id": "64608ebf",
   "metadata": {},
   "outputs": [],
   "source": [
    "def predict_kernel(X,y, deg):\n",
    "    K = (X.T @ X + 1)**deg # polynomial kernel\n",
    "    alpha = np.linalg.pinv(K) @ y # coefficient\n",
    "    return K.T @ alpha"
   ]
  },
  {
   "cell_type": "code",
   "execution_count": 90,
   "id": "8f5a1fd4",
   "metadata": {},
   "outputs": [
    {
     "data": {
      "text/plain": [
       "-24.089592244996595"
      ]
     },
     "execution_count": 90,
     "metadata": {},
     "output_type": "execute_result"
    }
   ],
   "source": [
    "np.sum(predict_kernel(X,y,3))"
   ]
  },
  {
   "cell_type": "code",
   "execution_count": 84,
   "id": "01dc810f",
   "metadata": {},
   "outputs": [
    {
     "data": {
      "text/plain": [
       "1.0061539382919291"
      ]
     },
     "execution_count": 84,
     "metadata": {},
     "output_type": "execute_result"
    }
   ],
   "source": [
    "RMSE(y, predict_kernel(X,y,3))"
   ]
  },
  {
   "cell_type": "code",
   "execution_count": 91,
   "id": "4a1d8f10",
   "metadata": {},
   "outputs": [],
   "source": [
    "# Test Data\n",
    "rng = np.random.default_rng(seed = 102)\n",
    "Xnew = np.arange(-2, 2, 0.03)\n",
    "ynew = Xnew**3 + rng.normal(0, 1.5, Xnew.shape[0])\n",
    "X_test = np.column_stack((np.ones(Xnew.shape[0]), Xnew.reshape(-1, 1))).T\n",
    "y_test = ynew.reshape(-1, 1)"
   ]
  },
  {
   "cell_type": "code",
   "execution_count": 92,
   "id": "4f7f0965",
   "metadata": {},
   "outputs": [
    {
     "data": {
      "text/plain": [
       "1.5480083925033956"
      ]
     },
     "execution_count": 92,
     "metadata": {},
     "output_type": "execute_result"
    }
   ],
   "source": [
    "RMSE(y_test, predict_kernel(X_test, y_test, 3))"
   ]
  }
 ],
 "metadata": {
  "kernelspec": {
   "display_name": "Python 3 (ipykernel)",
   "language": "python",
   "name": "python3"
  },
  "language_info": {
   "codemirror_mode": {
    "name": "ipython",
    "version": 3
   },
   "file_extension": ".py",
   "mimetype": "text/x-python",
   "name": "python",
   "nbconvert_exporter": "python",
   "pygments_lexer": "ipython3",
   "version": "3.10.2"
  }
 },
 "nbformat": 4,
 "nbformat_minor": 5
}
