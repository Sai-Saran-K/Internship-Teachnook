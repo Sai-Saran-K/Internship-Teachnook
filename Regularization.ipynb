{
 "cells": [
  {
   "cell_type": "code",
   "execution_count": 54,
   "id": "f6cc2a1f",
   "metadata": {},
   "outputs": [],
   "source": [
    "import numpy as np\n",
    "import matplotlib.pyplot as plt"
   ]
  },
  {
   "cell_type": "markdown",
   "id": "ecb13ff2",
   "metadata": {},
   "source": [
    "# Data Setup: Do not Edit"
   ]
  },
  {
   "cell_type": "code",
   "execution_count": 55,
   "id": "fda8f3d8",
   "metadata": {},
   "outputs": [],
   "source": [
    "from sklearn.datasets import load_diabetes\n",
    "X, y = load_diabetes(return_X_y = True)\n",
    "# set the random seed value to 0\n",
    "np.random.seed(0)"
   ]
  },
  {
   "cell_type": "code",
   "execution_count": 56,
   "id": "30741b12",
   "metadata": {},
   "outputs": [
    {
     "data": {
      "text/plain": [
       "(442, 10)"
      ]
     },
     "execution_count": 56,
     "metadata": {},
     "output_type": "execute_result"
    }
   ],
   "source": [
    "X.shape"
   ]
  },
  {
   "cell_type": "markdown",
   "id": "679e5d0e",
   "metadata": {},
   "source": [
    "## Shuffle X and y"
   ]
  },
  {
   "cell_type": "code",
   "execution_count": 57,
   "id": "0fe8db6d",
   "metadata": {},
   "outputs": [],
   "source": [
    "def shuffle_data(X,y):\n",
    "    indices = np.arange(X.shape[0])\n",
    "    np.random.shuffle(indices)\n",
    "    return X[indices], y[indices]\n",
    "\n",
    "X, y = shuffle_data(X,y)"
   ]
  },
  {
   "cell_type": "code",
   "execution_count": 58,
   "id": "c1d2c227",
   "metadata": {},
   "outputs": [
    {
     "name": "stdout",
     "output_type": "stream",
     "text": [
      "180.4\n"
     ]
    }
   ],
   "source": [
    "print(np.mean(y[:5]))"
   ]
  },
  {
   "cell_type": "markdown",
   "id": "032131eb",
   "metadata": {},
   "source": [
    "## Splitting Data into training and testing"
   ]
  },
  {
   "cell_type": "code",
   "execution_count": 59,
   "id": "95600478",
   "metadata": {},
   "outputs": [],
   "source": [
    "def train_test_split(X,y,test_size):\n",
    "    test_num = X.shape[0] - int(X.shape[0]*test_size)\n",
    "    X_test, y_test = X[test_num:], y[test_num:]\n",
    "    X_train, y_train = X[:test_num], y[:test_num]\n",
    "    return X_train, X_test, y_train, y_test"
   ]
  },
  {
   "cell_type": "code",
   "execution_count": 60,
   "id": "8ea2ef44",
   "metadata": {},
   "outputs": [],
   "source": [
    "X_train, X_test, y_train, y_test = train_test_split(X,y,0.25)"
   ]
  },
  {
   "cell_type": "code",
   "execution_count": 61,
   "id": "e5cc58e4",
   "metadata": {},
   "outputs": [
    {
     "data": {
      "text/plain": [
       "16960.0"
      ]
     },
     "execution_count": 61,
     "metadata": {},
     "output_type": "execute_result"
    }
   ],
   "source": [
    "np.sum(y_test)"
   ]
  },
  {
   "cell_type": "markdown",
   "id": "41a75882",
   "metadata": {},
   "source": [
    "## Adding Dummy feature and taking transpose"
   ]
  },
  {
   "cell_type": "code",
   "execution_count": 62,
   "id": "de91f2b5",
   "metadata": {},
   "outputs": [],
   "source": [
    "train_dummy = np.ones(len(y_train))\n",
    "test_dummy = np.ones(len(y_test))"
   ]
  },
  {
   "cell_type": "code",
   "execution_count": 63,
   "id": "4342295d",
   "metadata": {},
   "outputs": [
    {
     "name": "stdout",
     "output_type": "stream",
     "text": [
      "(11, 332)\n",
      "(11, 110)\n"
     ]
    }
   ],
   "source": [
    "X_train = np.row_stack((train_dummy, X_train.T))\n",
    "X_test = np.row_stack((test_dummy, X_test.T))\n",
    "print(X_train.shape)\n",
    "print(X_test.shape)"
   ]
  },
  {
   "cell_type": "markdown",
   "id": "11c7b055",
   "metadata": {},
   "source": [
    "## Computing Weights Using Linear Regression formula\n",
    "\n",
    "Recall that the formula to calculate the optimum weights is:\n",
    "$$\n",
    "w=(XX^T)^{-1}Xy\n",
    "$$"
   ]
  },
  {
   "cell_type": "code",
   "execution_count": 64,
   "id": "9380980a",
   "metadata": {},
   "outputs": [],
   "source": [
    "def compute_weights(X,y):\n",
    "    return np.linalg.pinv(X @ X.T) @ X @ y"
   ]
  },
  {
   "cell_type": "code",
   "execution_count": 65,
   "id": "54cc35c4",
   "metadata": {},
   "outputs": [
    {
     "name": "stdout",
     "output_type": "stream",
     "text": [
      "(11,)\n"
     ]
    }
   ],
   "source": [
    "weights = compute_weights(X_train, y_train)\n",
    "print(weights.shape)"
   ]
  },
  {
   "cell_type": "code",
   "execution_count": 66,
   "id": "2f224afa",
   "metadata": {},
   "outputs": [
    {
     "name": "stdout",
     "output_type": "stream",
     "text": [
      "150.80818854686095\n"
     ]
    }
   ],
   "source": [
    "print(weights[0])"
   ]
  },
  {
   "cell_type": "markdown",
   "id": "b1e76be0",
   "metadata": {},
   "source": [
    "## Computing Mean Squared Error"
   ]
  },
  {
   "cell_type": "code",
   "execution_count": 67,
   "id": "aa8b4e0c",
   "metadata": {},
   "outputs": [],
   "source": [
    "def MSE(X,y,w):\n",
    "    predictions = w.T @ X\n",
    "    return np.mean((y - predictions)**2)"
   ]
  },
  {
   "cell_type": "code",
   "execution_count": 68,
   "id": "1223c1e6",
   "metadata": {},
   "outputs": [
    {
     "name": "stdout",
     "output_type": "stream",
     "text": [
      "2921.8874514067493\n",
      "2745.430111174353\n"
     ]
    }
   ],
   "source": [
    "print(MSE(X_train, y_train, weights))\n",
    "print(MSE(X_test, y_test, weights))"
   ]
  },
  {
   "cell_type": "markdown",
   "id": "152bde84",
   "metadata": {},
   "source": [
    "## Computing Weights using Ridge Regression\n",
    "\n",
    "Closed form formula for Ridge Regression:\n",
    "$$\n",
    "w_{ridge} = (XX^T+\\lambda I)^{-1}XY\n",
    "$$"
   ]
  },
  {
   "cell_type": "code",
   "execution_count": 69,
   "id": "0c9a1fa9",
   "metadata": {},
   "outputs": [],
   "source": [
    "def compute_weights_ridge(X,y,alpha):\n",
    "    return np.linalg.pinv(X @ X.T + alpha*np.eye((X.shape[0]))) @ X @ y"
   ]
  },
  {
   "cell_type": "code",
   "execution_count": 70,
   "id": "5e04fb04",
   "metadata": {},
   "outputs": [],
   "source": [
    "w_ridge = compute_weights_ridge(X_train, y_train, 0.3)"
   ]
  },
  {
   "cell_type": "code",
   "execution_count": 71,
   "id": "b9bf3021",
   "metadata": {},
   "outputs": [],
   "source": [
    "train_error_ridge = MSE(X_train, y_train, w_ridge)\n",
    "test_error_ridge = MSE(X_test, y_test, w_ridge)"
   ]
  },
  {
   "cell_type": "code",
   "execution_count": 72,
   "id": "b64979cb",
   "metadata": {},
   "outputs": [
    {
     "name": "stdout",
     "output_type": "stream",
     "text": [
      "99.46973870899592\n"
     ]
    }
   ],
   "source": [
    "print(train_error_ridge - test_error_ridge)"
   ]
  },
  {
   "cell_type": "markdown",
   "id": "477d88a3",
   "metadata": {},
   "source": [
    "## Plotting Weights and Sums of Weights"
   ]
  },
  {
   "cell_type": "code",
   "execution_count": 74,
   "id": "21d82f0f",
   "metadata": {},
   "outputs": [],
   "source": [
    "w = []\n",
    "w_sums = []\n",
    "\n",
    "for r in np.linspace(0,5,11):\n",
    "    weight = compute_weights_ridge(X_train,y_train,r)\n",
    "    w.append(weight)\n",
    "    w_sums.append(np.sum(weight))"
   ]
  },
  {
   "cell_type": "code",
   "execution_count": 77,
   "id": "cda2f99d",
   "metadata": {},
   "outputs": [
    {
     "data": {
      "image/png": "[encoded data removed]",
      "text/plain": [
       "<Figure size 640x480 with 1 Axes>"
      ]
     },
     "metadata": {},
     "output_type": "display_data"
    }
   ],
   "source": [
    "x_axis = np.linspace(0,5,11)\n",
    "y_axis = w_sums\n",
    "plt.plot(x_axis, y_axis, 'o-')\n",
    "plt.show()"
   ]
  }
 ],
 "metadata": {
  "kernelspec": {
   "display_name": "Python 3 (ipykernel)",
   "language": "python",
   "name": "python3"
  },
  "language_info": {
   "codemirror_mode": {
    "name": "ipython",
    "version": 3
   },
   "file_extension": ".py",
   "mimetype": "text/x-python",
   "name": "python",
   "nbconvert_exporter": "python",
   "pygments_lexer": "ipython3",
   "version": "3.10.2"
  }
 },
 "nbformat": 4,
 "nbformat_minor": 5
}
